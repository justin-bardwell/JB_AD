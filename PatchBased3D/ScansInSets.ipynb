{
 "cells": [
  {
   "cell_type": "code",
   "execution_count": 55,
   "id": "c5e98889-9cac-45d4-89a0-f808c6d6d472",
   "metadata": {},
   "outputs": [],
   "source": [
    "import nibabel                      as nib\n",
    "import nibabel.freesurfer.mghformat as mgh\n",
    "import matplotlib.pyplot as plt\n",
    "import numpy as np\n",
    "import pandas as pd\n",
    "import os\n",
    "np.random.seed(0)"
   ]
  },
  {
   "cell_type": "code",
   "execution_count": 2,
   "id": "4aa3c87a-237d-4053-8c9e-d1ef17de0442",
   "metadata": {},
   "outputs": [
    {
     "name": "stdout",
     "output_type": "stream",
     "text": [
      "MRI scans for patients remaining CN: 154\n",
      "MRI scans for patients converting to AD: 50\n"
     ]
    }
   ],
   "source": [
    "# Folder \"Scans_CN\" consist of subjects who remained cognitively converters for the whole study.\n",
    "CN_scan_paths = [\n",
    "    os.path.join(os.getcwd(), \"Scans_CN\", x)\n",
    "    for x in os.listdir(\"Scans_CN\")\n",
    "]\n",
    "# Folder \"Scans_Converters\" consist of subjects who converted from CN to MCI > 0.\n",
    "converters_scan_paths = [\n",
    "    os.path.join(os.getcwd(), \"Scans_Converters\", x)\n",
    "    for x in os.listdir(\"Scans_Converters\")\n",
    "]\n",
    "\n",
    "print(\"MRI scans for patients remaining CN: \" + str(len(CN_scan_paths)))\n",
    "print(\"MRI scans for patients converting to AD: \" + str(len(converters_scan_paths)))"
   ]
  },
  {
   "cell_type": "code",
   "execution_count": 56,
   "id": "c114777e-4815-4ba6-a022-ec01cce56c9c",
   "metadata": {},
   "outputs": [
    {
     "data": {
      "text/plain": [
       "array([ 26,  89, 151, 109,  24,   7,  44, 107,  56, 121, 139,  85, 136,\n",
       "        54, 108,  40,  33, 133,  71, 124,  97,   8, 137, 145,  37, 101,\n",
       "        83,  61,  94,  78,  16,  19, 138,  95,  22,  51, 100,  90,  27,\n",
       "       106, 105,  45,  18,  60,  30,  93,  59,   2, 122,  43])"
      ]
     },
     "execution_count": 56,
     "metadata": {},
     "output_type": "execute_result"
    }
   ],
   "source": [
    "# Randomly select samples from CN to create even 50/50 split\n",
    "select = np.random.choice(len(CN_scan_paths),len(converters_scan_paths), replace=False)\n",
    "select"
   ]
  },
  {
   "cell_type": "code",
   "execution_count": 4,
   "id": "66ddd221-148a-4bfa-96ed-38e22d20c2e7",
   "metadata": {},
   "outputs": [],
   "source": [
    "selected_CN = np.array(CN_scan_paths)[select]"
   ]
  },
  {
   "cell_type": "code",
   "execution_count": 5,
   "id": "92572eec-d624-4dff-b89d-be61ccc0a226",
   "metadata": {},
   "outputs": [],
   "source": [
    "# Create another random split for selection\n",
    "select = np.random.choice(len(selected_CN),len(converters_scan_paths), replace=False)"
   ]
  },
  {
   "cell_type": "code",
   "execution_count": 6,
   "id": "9b08a8bf-95dc-4147-b1fa-ff4e10517d1c",
   "metadata": {},
   "outputs": [],
   "source": [
    "train_CN = selected_CN[select[:40]]\n",
    "test_CN = selected_CN[select[40:]]\n",
    "train_converters = np.array(converters_scan_paths)[select[:40]]\n",
    "test_converters = np.array(converters_scan_paths)[select[40:]]"
   ]
  },
  {
   "cell_type": "code",
   "execution_count": 57,
   "id": "85b95242-c460-4451-86b6-73e5ad2191ae",
   "metadata": {},
   "outputs": [
    {
     "data": {
      "text/plain": [
       "array([ 26,  89, 151, 109,  24,   7,  44, 107,  56, 121, 139,  85, 136,\n",
       "        54, 108,  40,  33, 133,  71, 124,  97,   8, 137, 145,  37, 101,\n",
       "        83,  61,  94,  78,  16,  19, 138,  95,  22,  51, 100,  90,  27,\n",
       "       106, 105,  45,  18,  60,  30,  93,  59,   2, 122,  43])"
      ]
     },
     "execution_count": 57,
     "metadata": {},
     "output_type": "execute_result"
    }
   ],
   "source": [
    "select"
   ]
  },
  {
   "cell_type": "code",
   "execution_count": null,
   "id": "04f67ed6-58c2-49a1-874e-37e61480048b",
   "metadata": {},
   "outputs": [],
   "source": []
  },
  {
   "cell_type": "code",
   "execution_count": null,
   "id": "d6f0b4ce-ec38-40ed-bb83-b081efd5a8cb",
   "metadata": {},
   "outputs": [],
   "source": []
  }
 ],
 "metadata": {
  "kernelspec": {
   "display_name": "Python 3 (ipykernel)",
   "language": "python",
   "name": "python3"
  },
  "language_info": {
   "codemirror_mode": {
    "name": "ipython",
    "version": 3
   },
   "file_extension": ".py",
   "mimetype": "text/x-python",
   "name": "python",
   "nbconvert_exporter": "python",
   "pygments_lexer": "ipython3",
   "version": "3.9.6"
  }
 },
 "nbformat": 4,
 "nbformat_minor": 5
}
