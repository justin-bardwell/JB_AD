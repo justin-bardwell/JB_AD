{
 "cells": [
  {
   "cell_type": "code",
   "execution_count": 12,
   "id": "54c13cc2-ef76-4d7d-86dc-5df36f23f9fb",
   "metadata": {},
   "outputs": [],
   "source": [
    "import shutil\n",
    "import os\n",
    "import pandas as pd"
   ]
  },
  {
   "cell_type": "code",
   "execution_count": 27,
   "id": "ab4906f0-163c-4a3a-b089-c1c5084f6721",
   "metadata": {},
   "outputs": [],
   "source": [
    "# Get list of all files\n",
    "d = '..\\\\Scans_CN'\n",
    "f_paths = [os.path.join(d, o) for o in os.listdir(d) \n",
    "                    if os.path.isfile(os.path.join(d,o))]"
   ]
  },
  {
   "cell_type": "code",
   "execution_count": 31,
   "id": "f8a86da9-9b8f-42be-9bb7-0210e1753b98",
   "metadata": {},
   "outputs": [
    {
     "data": {
      "text/plain": [
       "154"
      ]
     },
     "execution_count": 31,
     "metadata": {},
     "output_type": "execute_result"
    }
   ],
   "source": [
    "df_CN = pd.read_csv('..\\\\Data\\ChosenScans_always_3000.csv')\n",
    "always3000 = list(df_CN['Subject'])\n",
    "len(always3000)"
   ]
  },
  {
   "cell_type": "code",
   "execution_count": 34,
   "id": "d70886b4-a3d1-4da7-9b76-63e0658a97a7",
   "metadata": {},
   "outputs": [
    {
     "data": {
      "text/plain": [
       "154"
      ]
     },
     "execution_count": 34,
     "metadata": {},
     "output_type": "execute_result"
    }
   ],
   "source": [
    "CN_paths = []\n",
    "for f in f_paths:\n",
    "    for subject in always3000:\n",
    "        if subject in f:\n",
    "            CN_paths.append(f)\n",
    "len(CN_paths)"
   ]
  },
  {
   "cell_type": "code",
   "execution_count": 38,
   "id": "ae200379-57f7-425b-ba23-148c1820b754",
   "metadata": {},
   "outputs": [],
   "source": [
    "for source in CN_paths:\n",
    "    shutil.copy(source, 'Scans_CN')"
   ]
  },
  {
   "cell_type": "code",
   "execution_count": null,
   "id": "c9bb59a9-5f32-490a-9708-e1cde6c171ec",
   "metadata": {},
   "outputs": [],
   "source": []
  },
  {
   "cell_type": "code",
   "execution_count": null,
   "id": "66e4c818-5f70-4f81-b134-30eebb67753e",
   "metadata": {},
   "outputs": [],
   "source": []
  },
  {
   "cell_type": "code",
   "execution_count": null,
   "id": "e07f7f6c-c7bd-428a-af98-dda1fdb6607f",
   "metadata": {},
   "outputs": [],
   "source": []
  },
  {
   "cell_type": "code",
   "execution_count": 39,
   "id": "ddb53dbc-44d9-4094-b64f-9a4ebfe132c3",
   "metadata": {},
   "outputs": [],
   "source": [
    "# Get list of all files\n",
    "d = '..\\\\Scans_Converters'\n",
    "f_paths = [os.path.join(d, o) for o in os.listdir(d) \n",
    "                    if os.path.isfile(os.path.join(d,o))]"
   ]
  },
  {
   "cell_type": "code",
   "execution_count": 40,
   "id": "3f6c656c-96ad-4b9e-b2f8-1947d3acec22",
   "metadata": {},
   "outputs": [
    {
     "data": {
      "text/plain": [
       "50"
      ]
     },
     "execution_count": 40,
     "metadata": {},
     "output_type": "execute_result"
    }
   ],
   "source": [
    "df_CN = pd.read_csv('..\\\\Data\\ChosenScans_con_1000.csv')\n",
    "con1000 = list(df_CN['Subject'])\n",
    "len(con1000)"
   ]
  },
  {
   "cell_type": "code",
   "execution_count": 41,
   "id": "12adb4fc-d169-4b67-9981-038330c06ca7",
   "metadata": {},
   "outputs": [
    {
     "data": {
      "text/plain": [
       "50"
      ]
     },
     "execution_count": 41,
     "metadata": {},
     "output_type": "execute_result"
    }
   ],
   "source": [
    "CN_paths = []\n",
    "for f in f_paths:\n",
    "    for subject in con1000:\n",
    "        if subject in f:\n",
    "            CN_paths.append(f)\n",
    "len(CN_paths)"
   ]
  },
  {
   "cell_type": "code",
   "execution_count": 42,
   "id": "55e27f78-4960-4c2f-b3e8-baa140f17291",
   "metadata": {},
   "outputs": [],
   "source": [
    "for source in CN_paths:\n",
    "    shutil.copy(source, 'Scans_Converters')"
   ]
  },
  {
   "cell_type": "code",
   "execution_count": null,
   "id": "fb1411d0-81df-4922-8288-f74290860130",
   "metadata": {},
   "outputs": [],
   "source": []
  }
 ],
 "metadata": {
  "kernelspec": {
   "display_name": "Python 3 (ipykernel)",
   "language": "python",
   "name": "python3"
  },
  "language_info": {
   "codemirror_mode": {
    "name": "ipython",
    "version": 3
   },
   "file_extension": ".py",
   "mimetype": "text/x-python",
   "name": "python",
   "nbconvert_exporter": "python",
   "pygments_lexer": "ipython3",
   "version": "3.9.6"
  }
 },
 "nbformat": 4,
 "nbformat_minor": 5
}
