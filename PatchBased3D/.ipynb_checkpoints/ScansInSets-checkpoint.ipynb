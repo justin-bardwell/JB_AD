{
 "cells": [
  {
   "cell_type": "code",
   "execution_count": 1,
   "id": "c5e98889-9cac-45d4-89a0-f808c6d6d472",
   "metadata": {},
   "outputs": [],
   "source": [
    "import nibabel                      as nib\n",
    "import nibabel.freesurfer.mghformat as mgh\n",
    "import matplotlib.pyplot as plt\n",
    "import numpy as np\n",
    "import pandas as pd\n",
    "import os"
   ]
  },
  {
   "cell_type": "code",
   "execution_count": 2,
   "id": "4aa3c87a-237d-4053-8c9e-d1ef17de0442",
   "metadata": {},
   "outputs": [
    {
     "name": "stdout",
     "output_type": "stream",
     "text": [
      "MRI scans for patients remaining CN: 154\n",
      "MRI scans for patients converting to AD: 50\n"
     ]
    }
   ],
   "source": [
    "# Folder \"Scans_CN\" consist of subjects who remained cognitively converters for the whole study.\n",
    "CN_scan_paths = [\n",
    "    os.path.join(os.getcwd(), \"Scans_CN\", x)\n",
    "    for x in os.listdir(\"Scans_CN\")\n",
    "]\n",
    "# Folder \"Scans_Converters\" consist of subjects who converted from CN to MCI > 0.\n",
    "converters_scan_paths = [\n",
    "    os.path.join(os.getcwd(), \"Scans_Converters\", x)\n",
    "    for x in os.listdir(\"Scans_Converters\")\n",
    "]\n",
    "\n",
    "print(\"MRI scans for patients remaining CN: \" + str(len(CN_scan_paths)))\n",
    "print(\"MRI scans for patients converting to AD: \" + str(len(converters_scan_paths)))"
   ]
  },
  {
   "cell_type": "code",
   "execution_count": 16,
   "id": "c114777e-4815-4ba6-a022-ec01cce56c9c",
   "metadata": {},
   "outputs": [],
   "source": [
    "# Randomly select samples from CN to create even 50/50 split\n",
    "select = np.random.choice(len(CN_scan_paths),len(converters_scan_paths), replace=False)"
   ]
  },
  {
   "cell_type": "code",
   "execution_count": 17,
   "id": "66ddd221-148a-4bfa-96ed-38e22d20c2e7",
   "metadata": {},
   "outputs": [],
   "source": [
    "selected_CN = np.array(CN_scan_paths)[select]"
   ]
  },
  {
   "cell_type": "code",
   "execution_count": 18,
   "id": "92572eec-d624-4dff-b89d-be61ccc0a226",
   "metadata": {},
   "outputs": [],
   "source": [
    "# Create another random split for selection\n",
    "select = np.random.choice(len(selected_CN),len(converters_scan_paths), replace=False)"
   ]
  },
  {
   "cell_type": "code",
   "execution_count": 20,
   "id": "9b08a8bf-95dc-4147-b1fa-ff4e10517d1c",
   "metadata": {},
   "outputs": [],
   "source": [
    "train_CN = selected_CN[select[:40]]\n",
    "test_CN = selected_CN[select[40:]]\n",
    "train_converters = np.array(converters_scan_paths)[select[:40]]\n",
    "test_converters = np.array(converters_scan_paths)[select[40:]]"
   ]
  },
  {
   "cell_type": "code",
   "execution_count": 21,
   "id": "85b95242-c460-4451-86b6-73e5ad2191ae",
   "metadata": {},
   "outputs": [
    {
     "data": {
      "text/plain": [
       "array(['C:\\\\Users\\\\Justin\\\\Desktop\\\\Research\\\\Repo\\\\JB_AD\\\\PatchBased3D\\\\Scans_CN\\\\OAS30750_MR_d0376.mgz',\n",
       "       'C:\\\\Users\\\\Justin\\\\Desktop\\\\Research\\\\Repo\\\\JB_AD\\\\PatchBased3D\\\\Scans_CN\\\\OAS30349_MR_d0699.mgz',\n",
       "       'C:\\\\Users\\\\Justin\\\\Desktop\\\\Research\\\\Repo\\\\JB_AD\\\\PatchBased3D\\\\Scans_CN\\\\OAS31009_MR_d0512.mgz',\n",
       "       'C:\\\\Users\\\\Justin\\\\Desktop\\\\Research\\\\Repo\\\\JB_AD\\\\PatchBased3D\\\\Scans_CN\\\\OAS30288_MR_d0897.mgz',\n",
       "       'C:\\\\Users\\\\Justin\\\\Desktop\\\\Research\\\\Repo\\\\JB_AD\\\\PatchBased3D\\\\Scans_CN\\\\OAS30121_MR_d0768.mgz',\n",
       "       'C:\\\\Users\\\\Justin\\\\Desktop\\\\Research\\\\Repo\\\\JB_AD\\\\PatchBased3D\\\\Scans_CN\\\\OAS30109_MR_d0270.mgz',\n",
       "       'C:\\\\Users\\\\Justin\\\\Desktop\\\\Research\\\\Repo\\\\JB_AD\\\\PatchBased3D\\\\Scans_CN\\\\OAS30231_MR_d1469.mgz',\n",
       "       'C:\\\\Users\\\\Justin\\\\Desktop\\\\Research\\\\Repo\\\\JB_AD\\\\PatchBased3D\\\\Scans_CN\\\\OAS30367_MR_d0055.mgz',\n",
       "       'C:\\\\Users\\\\Justin\\\\Desktop\\\\Research\\\\Repo\\\\JB_AD\\\\PatchBased3D\\\\Scans_CN\\\\OAS30060_MR_d0074.mgz',\n",
       "       'C:\\\\Users\\\\Justin\\\\Desktop\\\\Research\\\\Repo\\\\JB_AD\\\\PatchBased3D\\\\Scans_CN\\\\OAS30664_MR_d0226.mgz',\n",
       "       'C:\\\\Users\\\\Justin\\\\Desktop\\\\Research\\\\Repo\\\\JB_AD\\\\PatchBased3D\\\\Scans_CN\\\\OAS30032_MR_d0262.mgz',\n",
       "       'C:\\\\Users\\\\Justin\\\\Desktop\\\\Research\\\\Repo\\\\JB_AD\\\\PatchBased3D\\\\Scans_CN\\\\OAS30101_MR_d0101.mgz',\n",
       "       'C:\\\\Users\\\\Justin\\\\Desktop\\\\Research\\\\Repo\\\\JB_AD\\\\PatchBased3D\\\\Scans_CN\\\\OAS30919_MR_d0035.mgz',\n",
       "       'C:\\\\Users\\\\Justin\\\\Desktop\\\\Research\\\\Repo\\\\JB_AD\\\\PatchBased3D\\\\Scans_CN\\\\OAS30588_MR_d0394.mgz',\n",
       "       'C:\\\\Users\\\\Justin\\\\Desktop\\\\Research\\\\Repo\\\\JB_AD\\\\PatchBased3D\\\\Scans_CN\\\\OAS30256_MR_d0000.mgz',\n",
       "       'C:\\\\Users\\\\Justin\\\\Desktop\\\\Research\\\\Repo\\\\JB_AD\\\\PatchBased3D\\\\Scans_CN\\\\OAS30419_MR_d0621.mgz',\n",
       "       'C:\\\\Users\\\\Justin\\\\Desktop\\\\Research\\\\Repo\\\\JB_AD\\\\PatchBased3D\\\\Scans_CN\\\\OAS31012_MR_d0308.mgz',\n",
       "       'C:\\\\Users\\\\Justin\\\\Desktop\\\\Research\\\\Repo\\\\JB_AD\\\\PatchBased3D\\\\Scans_CN\\\\OAS30184_MR_d0169.mgz',\n",
       "       'C:\\\\Users\\\\Justin\\\\Desktop\\\\Research\\\\Repo\\\\JB_AD\\\\PatchBased3D\\\\Scans_CN\\\\OAS30015_MR_d0116.mgz',\n",
       "       'C:\\\\Users\\\\Justin\\\\Desktop\\\\Research\\\\Repo\\\\JB_AD\\\\PatchBased3D\\\\Scans_CN\\\\OAS30216_MR_d2849.mgz',\n",
       "       'C:\\\\Users\\\\Justin\\\\Desktop\\\\Research\\\\Repo\\\\JB_AD\\\\PatchBased3D\\\\Scans_CN\\\\OAS31164_MR_d0069.mgz',\n",
       "       'C:\\\\Users\\\\Justin\\\\Desktop\\\\Research\\\\Repo\\\\JB_AD\\\\PatchBased3D\\\\Scans_CN\\\\OAS30001_MR_d0129.mgz',\n",
       "       'C:\\\\Users\\\\Justin\\\\Desktop\\\\Research\\\\Repo\\\\JB_AD\\\\PatchBased3D\\\\Scans_CN\\\\OAS30353_MR_d0963.mgz',\n",
       "       'C:\\\\Users\\\\Justin\\\\Desktop\\\\Research\\\\Repo\\\\JB_AD\\\\PatchBased3D\\\\Scans_CN\\\\OAS30794_MR_d1680.mgz',\n",
       "       'C:\\\\Users\\\\Justin\\\\Desktop\\\\Research\\\\Repo\\\\JB_AD\\\\PatchBased3D\\\\Scans_CN\\\\OAS30272_MR_d0057.mgz',\n",
       "       'C:\\\\Users\\\\Justin\\\\Desktop\\\\Research\\\\Repo\\\\JB_AD\\\\PatchBased3D\\\\Scans_CN\\\\OAS31048_MR_d0122.mgz',\n",
       "       'C:\\\\Users\\\\Justin\\\\Desktop\\\\Research\\\\Repo\\\\JB_AD\\\\PatchBased3D\\\\Scans_CN\\\\OAS31157_MR_d1361.mgz',\n",
       "       'C:\\\\Users\\\\Justin\\\\Desktop\\\\Research\\\\Repo\\\\JB_AD\\\\PatchBased3D\\\\Scans_CN\\\\OAS31072_MR_d0833.mgz',\n",
       "       'C:\\\\Users\\\\Justin\\\\Desktop\\\\Research\\\\Repo\\\\JB_AD\\\\PatchBased3D\\\\Scans_CN\\\\OAS30558_MR_d0061.mgz',\n",
       "       'C:\\\\Users\\\\Justin\\\\Desktop\\\\Research\\\\Repo\\\\JB_AD\\\\PatchBased3D\\\\Scans_CN\\\\OAS30564_MR_d0000.mgz',\n",
       "       'C:\\\\Users\\\\Justin\\\\Desktop\\\\Research\\\\Repo\\\\JB_AD\\\\PatchBased3D\\\\Scans_CN\\\\OAS30788_MR_d0201.mgz',\n",
       "       'C:\\\\Users\\\\Justin\\\\Desktop\\\\Research\\\\Repo\\\\JB_AD\\\\PatchBased3D\\\\Scans_CN\\\\OAS30062_MR_d0087.mgz',\n",
       "       'C:\\\\Users\\\\Justin\\\\Desktop\\\\Research\\\\Repo\\\\JB_AD\\\\PatchBased3D\\\\Scans_CN\\\\OAS30822_MR_d0036.mgz',\n",
       "       'C:\\\\Users\\\\Justin\\\\Desktop\\\\Research\\\\Repo\\\\JB_AD\\\\PatchBased3D\\\\Scans_CN\\\\OAS30048_MR_d0983.mgz',\n",
       "       'C:\\\\Users\\\\Justin\\\\Desktop\\\\Research\\\\Repo\\\\JB_AD\\\\PatchBased3D\\\\Scans_CN\\\\OAS30285_MR_d0055.mgz',\n",
       "       'C:\\\\Users\\\\Justin\\\\Desktop\\\\Research\\\\Repo\\\\JB_AD\\\\PatchBased3D\\\\Scans_CN\\\\OAS30525_MR_d0671.mgz',\n",
       "       'C:\\\\Users\\\\Justin\\\\Desktop\\\\Research\\\\Repo\\\\JB_AD\\\\PatchBased3D\\\\Scans_CN\\\\OAS30073_MR_d0033.mgz',\n",
       "       'C:\\\\Users\\\\Justin\\\\Desktop\\\\Research\\\\Repo\\\\JB_AD\\\\PatchBased3D\\\\Scans_CN\\\\OAS30963_MR_d0047.mgz',\n",
       "       'C:\\\\Users\\\\Justin\\\\Desktop\\\\Research\\\\Repo\\\\JB_AD\\\\PatchBased3D\\\\Scans_CN\\\\OAS30516_MR_d0225.mgz',\n",
       "       'C:\\\\Users\\\\Justin\\\\Desktop\\\\Research\\\\Repo\\\\JB_AD\\\\PatchBased3D\\\\Scans_CN\\\\OAS30407_MR_d0061.mgz'],\n",
       "      dtype='<U87')"
      ]
     },
     "execution_count": 21,
     "metadata": {},
     "output_type": "execute_result"
    }
   ],
   "source": []
  },
  {
   "cell_type": "code",
   "execution_count": null,
   "id": "04f67ed6-58c2-49a1-874e-37e61480048b",
   "metadata": {},
   "outputs": [],
   "source": []
  }
 ],
 "metadata": {
  "kernelspec": {
   "display_name": "Python 3 (ipykernel)",
   "language": "python",
   "name": "python3"
  },
  "language_info": {
   "codemirror_mode": {
    "name": "ipython",
    "version": 3
   },
   "file_extension": ".py",
   "mimetype": "text/x-python",
   "name": "python",
   "nbconvert_exporter": "python",
   "pygments_lexer": "ipython3",
   "version": "3.9.6"
  }
 },
 "nbformat": 4,
 "nbformat_minor": 5
}
