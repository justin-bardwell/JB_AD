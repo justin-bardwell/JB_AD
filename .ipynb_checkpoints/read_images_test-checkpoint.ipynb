{
 "cells": [
  {
   "cell_type": "code",
   "execution_count": 2,
   "id": "3a2680f7-867d-467a-83ca-7f8cc7488345",
   "metadata": {},
   "outputs": [],
   "source": [
    "import nibabel                      as nib\n",
    "import nibabel.freesurfer.mghformat as mgh"
   ]
  },
  {
   "cell_type": "code",
   "execution_count": 5,
   "id": "3023b0e2-33bc-4cb2-ab97-086579ae1ca4",
   "metadata": {},
   "outputs": [
    {
     "data": {
      "text/plain": [
       "(256, 256, 256)"
      ]
     },
     "execution_count": 5,
     "metadata": {},
     "output_type": "execute_result"
    }
   ],
   "source": [
    "# MGH/MGZ files\n",
    "mgh_file = mgh.load('Scans/OAS30001_MR_d0129.mgz')\n",
    "mgh_file.get_fdata().shape"
   ]
  },
  {
   "cell_type": "code",
   "execution_count": 7,
   "id": "2ba7e8a0-7ef5-4f78-9a4a-449a5cc02538",
   "metadata": {},
   "outputs": [
    {
     "data": {
      "text/plain": [
       "numpy.ndarray"
      ]
     },
     "execution_count": 7,
     "metadata": {},
     "output_type": "execute_result"
    }
   ],
   "source": [
    "type(mgh_file.get_fdata())"
   ]
  },
  {
   "cell_type": "code",
   "execution_count": null,
   "id": "efa10257-88a1-413f-9ee6-0cb7ca835982",
   "metadata": {},
   "outputs": [],
   "source": []
  },
  {
   "cell_type": "code",
   "execution_count": null,
   "id": "13dceb41-904a-4628-a797-c5a46aec967d",
   "metadata": {},
   "outputs": [],
   "source": []
  }
 ],
 "metadata": {
  "kernelspec": {
   "display_name": "Python 3 (ipykernel)",
   "language": "python",
   "name": "python3"
  },
  "language_info": {
   "codemirror_mode": {
    "name": "ipython",
    "version": 3
   },
   "file_extension": ".py",
   "mimetype": "text/x-python",
   "name": "python",
   "nbconvert_exporter": "python",
   "pygments_lexer": "ipython3",
   "version": "3.9.6"
  }
 },
 "nbformat": 4,
 "nbformat_minor": 5
}
