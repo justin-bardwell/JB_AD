{
 "cells": [
  {
   "cell_type": "code",
   "execution_count": 1,
   "id": "54c13cc2-ef76-4d7d-86dc-5df36f23f9fb",
   "metadata": {},
   "outputs": [],
   "source": [
    "import shutil\n",
    "import os\n",
    "import pandas as pd\n",
    "import numpy as np\n",
    "np.random.seed(1)"
   ]
  },
  {
   "cell_type": "code",
   "execution_count": 2,
   "id": "ab4906f0-163c-4a3a-b089-c1c5084f6721",
   "metadata": {},
   "outputs": [],
   "source": [
    "# Get list of all files\n",
    "d = '..\\\\Scans_CN'\n",
    "f_paths = [os.path.join(d, o) for o in os.listdir(d) \n",
    "                    if os.path.isfile(os.path.join(d,o))]"
   ]
  },
  {
   "cell_type": "code",
   "execution_count": 3,
   "id": "f8a86da9-9b8f-42be-9bb7-0210e1753b98",
   "metadata": {},
   "outputs": [
    {
     "data": {
      "text/plain": [
       "154"
      ]
     },
     "execution_count": 3,
     "metadata": {},
     "output_type": "execute_result"
    }
   ],
   "source": [
    "df_CN = pd.read_csv('..\\\\Data\\ChosenScans_always_3000.csv')\n",
    "always3000 = list(df_CN['Subject'])\n",
    "len(always3000)"
   ]
  },
  {
   "cell_type": "code",
   "execution_count": 4,
   "id": "d70886b4-a3d1-4da7-9b76-63e0658a97a7",
   "metadata": {},
   "outputs": [
    {
     "data": {
      "text/plain": [
       "154"
      ]
     },
     "execution_count": 4,
     "metadata": {},
     "output_type": "execute_result"
    }
   ],
   "source": [
    "CN_paths = []\n",
    "for f in f_paths:\n",
    "    for subject in always3000:\n",
    "        if subject in f:\n",
    "            CN_paths.append(f)\n",
    "len(CN_paths)"
   ]
  },
  {
   "cell_type": "code",
   "execution_count": 5,
   "id": "ddb53dbc-44d9-4094-b64f-9a4ebfe132c3",
   "metadata": {},
   "outputs": [],
   "source": [
    "# Get list of all files\n",
    "d = '..\\\\Scans_Converters'\n",
    "f_paths = [os.path.join(d, o) for o in os.listdir(d) \n",
    "                    if os.path.isfile(os.path.join(d,o))]"
   ]
  },
  {
   "cell_type": "code",
   "execution_count": 6,
   "id": "3f6c656c-96ad-4b9e-b2f8-1947d3acec22",
   "metadata": {},
   "outputs": [
    {
     "data": {
      "text/plain": [
       "50"
      ]
     },
     "execution_count": 6,
     "metadata": {},
     "output_type": "execute_result"
    }
   ],
   "source": [
    "df_CN = pd.read_csv('..\\\\Data\\ChosenScans_con_1000.csv')\n",
    "con1000 = list(df_CN['Subject'])\n",
    "len(con1000)"
   ]
  },
  {
   "cell_type": "code",
   "execution_count": 7,
   "id": "12adb4fc-d169-4b67-9981-038330c06ca7",
   "metadata": {},
   "outputs": [
    {
     "data": {
      "text/plain": [
       "50"
      ]
     },
     "execution_count": 7,
     "metadata": {},
     "output_type": "execute_result"
    }
   ],
   "source": [
    "converter_paths = []\n",
    "for f in f_paths:\n",
    "    for subject in con1000:\n",
    "        if subject in f:\n",
    "            converter_paths.append(f)\n",
    "len(converter_paths)"
   ]
  },
  {
   "cell_type": "markdown",
   "id": "1ed00c94-d448-478c-846d-664b3c5e6495",
   "metadata": {},
   "source": [
    "### Split into sets - CN"
   ]
  },
  {
   "cell_type": "code",
   "execution_count": 8,
   "id": "4577a92f-61c2-4b3c-8bc9-d5dd1876d948",
   "metadata": {},
   "outputs": [
    {
     "data": {
      "text/plain": [
       "array([ 59,  33,  69, 146,  31, 108,  97,  14,  53,  44, 148, 152,  78,\n",
       "       103,   5,  85,  16, 141,  89,  95,  91, 125,  92, 100,  93,  40,\n",
       "        29,  42,  54, 116,  35,  19, 114, 104,  77, 130,  58, 122,  56,\n",
       "        28,  51, 110,  66,  17, 120, 127, 149,  73,  18,  48])"
      ]
     },
     "execution_count": 8,
     "metadata": {},
     "output_type": "execute_result"
    }
   ],
   "source": [
    "# Randomly select samples from CN to create even 50/50 split\n",
    "select = np.random.choice(len(CN_paths),len(converter_paths), replace=False)\n",
    "select"
   ]
  },
  {
   "cell_type": "code",
   "execution_count": 9,
   "id": "b47bec85-49e5-4834-b60f-dc147f13b6fa",
   "metadata": {},
   "outputs": [],
   "source": [
    "train = select[:30]\n",
    "val = select[30:40]\n",
    "test = select[40:50]"
   ]
  },
  {
   "cell_type": "code",
   "execution_count": 10,
   "id": "4f05ca10-431c-42c5-8278-5f81a282ea75",
   "metadata": {},
   "outputs": [],
   "source": [
    "for i in train:\n",
    "    shutil.copy(CN_paths[i], 'Train_CN')\n",
    "for i in val:\n",
    "    shutil.copy(CN_paths[i], 'Val_CN')\n",
    "for i in test:\n",
    "    shutil.copy(CN_paths[i], 'Test_CN')"
   ]
  },
  {
   "cell_type": "markdown",
   "id": "487a26d3-c950-4001-b688-34abdc738302",
   "metadata": {},
   "source": [
    "### Split into sets - Converters"
   ]
  },
  {
   "cell_type": "code",
   "execution_count": 12,
   "id": "02b64d7d-fe7f-45dd-b50f-04b6f3e2b66a",
   "metadata": {},
   "outputs": [
    {
     "data": {
      "text/plain": [
       "array([ 9, 46, 25, 16, 47, 40,  1, 43, 23,  6,  5, 37, 39, 26, 33, 41, 17,\n",
       "        4,  2, 45, 44, 21,  3,  7, 22, 11, 29, 34, 14, 27, 36, 12, 38, 24,\n",
       "       19,  0, 15, 13, 20, 42, 49, 35,  8, 10, 30, 48, 31, 18, 28, 32])"
      ]
     },
     "execution_count": 12,
     "metadata": {},
     "output_type": "execute_result"
    }
   ],
   "source": [
    "# Converters\n",
    "select = np.random.choice(len(converter_paths),len(converter_paths), replace=False)\n",
    "select"
   ]
  },
  {
   "cell_type": "code",
   "execution_count": 13,
   "id": "00bc07db-c7a7-4862-8c06-2ab391fabf60",
   "metadata": {},
   "outputs": [],
   "source": [
    "train = select[:30]\n",
    "val = select[30:40]\n",
    "test = select[40:50]"
   ]
  },
  {
   "cell_type": "code",
   "execution_count": 14,
   "id": "55b9bcda-5370-4099-9dc5-6776a0c71879",
   "metadata": {},
   "outputs": [],
   "source": [
    "for i in train:\n",
    "    shutil.copy(converter_paths[i], 'Train_Converters')\n",
    "for i in val:\n",
    "    shutil.copy(converter_paths[i], 'Val_Converters')\n",
    "for i in test:\n",
    "    shutil.copy(converter_paths[i], 'Test_Converters')"
   ]
  }
 ],
 "metadata": {
  "kernelspec": {
   "display_name": "Python 3 (ipykernel)",
   "language": "python",
   "name": "python3"
  },
  "language_info": {
   "codemirror_mode": {
    "name": "ipython",
    "version": 3
   },
   "file_extension": ".py",
   "mimetype": "text/x-python",
   "name": "python",
   "nbconvert_exporter": "python",
   "pygments_lexer": "ipython3",
   "version": "3.9.6"
  }
 },
 "nbformat": 4,
 "nbformat_minor": 5
}
