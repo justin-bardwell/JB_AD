{
 "cells": [
  {
   "cell_type": "code",
   "execution_count": 6,
   "id": "54c13cc2-ef76-4d7d-86dc-5df36f23f9fb",
   "metadata": {},
   "outputs": [],
   "source": [
    "import shutil\n",
    "import os"
   ]
  },
  {
   "cell_type": "code",
   "execution_count": 20,
   "id": "ab4906f0-163c-4a3a-b089-c1c5084f6721",
   "metadata": {},
   "outputs": [],
   "source": [
    "# Get list of all folders\n",
    "d = '.'\n",
    "subfolders = [os.path.join(d, o) for o in os.listdir(d) \n",
    "                    if os.path.isdir(os.path.join(d,o))]\n",
    "\n",
    "# Remove ipynb checkpoints folder\n",
    "subfolders = subfolders[1:]\n",
    "#subfolders"
   ]
  },
  {
   "cell_type": "code",
   "execution_count": 23,
   "id": "daaf3af1-d625-406a-9d08-a3678cd4f335",
   "metadata": {},
   "outputs": [],
   "source": [
    "mystring = '\\mri\\\\brain.finalsurfs.mgz'\n",
    "f_paths = [s + mystring for s in subfolders]"
   ]
  },
  {
   "cell_type": "code",
   "execution_count": 26,
   "id": "31211826-5717-4ccb-8462-0db90273fa3d",
   "metadata": {},
   "outputs": [],
   "source": [
    "mystring = '.mgz'\n",
    "dests = [s + mystring for s in subfolders]"
   ]
  },
  {
   "cell_type": "code",
   "execution_count": 28,
   "id": "8d9ef0af-7392-4f4d-a626-801fe05857a1",
   "metadata": {},
   "outputs": [],
   "source": [
    "for source, dest in zip(f_paths, dests):\n",
    "    src= source\n",
    "    dst = dest\n",
    "    shutil.copyfile(src, dst)"
   ]
  },
  {
   "cell_type": "code",
   "execution_count": null,
   "id": "ae200379-57f7-425b-ba23-148c1820b754",
   "metadata": {},
   "outputs": [],
   "source": []
  }
 ],
 "metadata": {
  "kernelspec": {
   "display_name": "Python 3 (ipykernel)",
   "language": "python",
   "name": "python3"
  },
  "language_info": {
   "codemirror_mode": {
    "name": "ipython",
    "version": 3
   },
   "file_extension": ".py",
   "mimetype": "text/x-python",
   "name": "python",
   "nbconvert_exporter": "python",
   "pygments_lexer": "ipython3",
   "version": "3.9.6"
  }
 },
 "nbformat": 4,
 "nbformat_minor": 5
}
