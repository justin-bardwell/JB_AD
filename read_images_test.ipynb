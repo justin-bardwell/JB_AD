{
 "cells": [
  {
   "cell_type": "code",
   "execution_count": 2,
   "id": "3a2680f7-867d-467a-83ca-7f8cc7488345",
   "metadata": {},
   "outputs": [],
   "source": [
    "import nibabel                      as nib\n",
    "import nibabel.freesurfer.mghformat as mgh"
   ]
  },
  {
   "cell_type": "code",
   "execution_count": 5,
   "id": "3023b0e2-33bc-4cb2-ab97-086579ae1ca4",
   "metadata": {},
   "outputs": [
    {
     "data": {
      "text/plain": [
       "(256, 256, 256)"
      ]
     },
     "execution_count": 5,
     "metadata": {},
     "output_type": "execute_result"
    }
   ],
   "source": [
    "# MGH/MGZ files\n",
    "mgh_file = mgh.load('Scans/OAS30001_MR_d0129.mgz')\n",
    "mgh_file.get_fdata().shape"
   ]
  },
  {
   "cell_type": "code",
   "execution_count": 7,
   "id": "2ba7e8a0-7ef5-4f78-9a4a-449a5cc02538",
   "metadata": {},
   "outputs": [
    {
     "data": {
      "text/plain": [
       "numpy.ndarray"
      ]
     },
     "execution_count": 7,
     "metadata": {},
     "output_type": "execute_result"
    }
   ],
   "source": [
    "type(mgh_file.get_fdata())"
   ]
  },
  {
   "cell_type": "code",
   "execution_count": 13,
   "id": "efa10257-88a1-413f-9ee6-0cb7ca835982",
   "metadata": {},
   "outputs": [],
   "source": [
    "from scipy import ndimage\n",
    "\n",
    "def read_mgz_file(filepath):\n",
    "    \"\"\"Read and load volume\"\"\"\n",
    "    # Read file\n",
    "    scan = mgh.load(filepath)\n",
    "    # Get raw data\n",
    "    scan = scan.get_fdata()\n",
    "    return scan\n",
    "\n",
    "def normalize(volume):\n",
    "    \"\"\"Normalize the volume\"\"\"\n",
    "    min = -1000\n",
    "    max = 400\n",
    "    volume[volume < min] = min\n",
    "    volume[volume > max] = max\n",
    "    volume = (volume - min) / (max - min)\n",
    "    volume = volume.astype(\"float32\")\n",
    "    return volume\n",
    "\n",
    "#Not going to use this resizing function\n",
    "def resize_volume(img):\n",
    "#     \"\"\"Resize across z-axis\"\"\"\n",
    "#     # Set the desired depth\n",
    "#     desired_depth = 64\n",
    "#     desired_width = 128\n",
    "#     desired_height = 128\n",
    "#     # Get current depth\n",
    "#     current_depth = img.shape[-1]\n",
    "#     current_width = img.shape[0]\n",
    "#     current_height = img.shape[1]\n",
    "#     # Compute depth factor\n",
    "#     depth = current_depth / desired_depth\n",
    "#     width = current_width / desired_width\n",
    "#     height = current_height / desired_height\n",
    "#     depth_factor = 1 / depth\n",
    "#     width_factor = 1 / width\n",
    "#     height_factor = 1 / height\n",
    "    # Rotate\n",
    "    img = ndimage.rotate(img, 90, reshape=False)\n",
    "#     # Resize across z-axis\n",
    "#     img = ndimage.zoom(img, (width_factor, height_factor, depth_factor), order=1)\n",
    "#     return img\n",
    "\n",
    "def process_scan(path):\n",
    "    \"\"\"Read and resize volume\"\"\"\n",
    "    # Read scan\n",
    "    volume = read_mgz_file(path)\n",
    "    # Normalize\n",
    "#     volume = normalize(volume)\n",
    "#     # Resize width, height and depth\n",
    "    #Rotate \n",
    "    volume = resize_volume(volume)\n",
    "    return volume"
   ]
  },
  {
   "cell_type": "code",
   "execution_count": 15,
   "id": "13dceb41-904a-4628-a797-c5a46aec967d",
   "metadata": {},
   "outputs": [],
   "source": [
    "scan = process_scan('Scans/OAS30001_MR_d0129.mgz')"
   ]
  },
  {
   "cell_type": "code",
   "execution_count": 25,
   "id": "5907812d-032f-4c1e-b0aa-7abff5d51d6a",
   "metadata": {},
   "outputs": [
    {
     "ename": "AttributeError",
     "evalue": "'NoneType' object has no attribute 'shape'",
     "output_type": "error",
     "traceback": [
      "\u001b[1;31m---------------------------------------------------------------------------\u001b[0m",
      "\u001b[1;31mAttributeError\u001b[0m                            Traceback (most recent call last)",
      "\u001b[1;32m~\\AppData\\Local\\Temp/ipykernel_12788/4190819845.py\u001b[0m in \u001b[0;36m<module>\u001b[1;34m\u001b[0m\n\u001b[0;32m      6\u001b[0m \u001b[1;31m# images = images.numpy()\u001b[0m\u001b[1;33m\u001b[0m\u001b[1;33m\u001b[0m\u001b[1;33m\u001b[0m\u001b[0m\n\u001b[0;32m      7\u001b[0m \u001b[0mimage\u001b[0m \u001b[1;33m=\u001b[0m \u001b[0mscan\u001b[0m\u001b[1;33m\u001b[0m\u001b[1;33m\u001b[0m\u001b[0m\n\u001b[1;32m----> 8\u001b[1;33m \u001b[0mprint\u001b[0m\u001b[1;33m(\u001b[0m\u001b[1;34m\"Dimension of the CT scan is:\"\u001b[0m\u001b[1;33m,\u001b[0m \u001b[0mimage\u001b[0m\u001b[1;33m.\u001b[0m\u001b[0mshape\u001b[0m\u001b[1;33m)\u001b[0m\u001b[1;33m\u001b[0m\u001b[1;33m\u001b[0m\u001b[0m\n\u001b[0m\u001b[0;32m      9\u001b[0m \u001b[0mplt\u001b[0m\u001b[1;33m.\u001b[0m\u001b[0mimshow\u001b[0m\u001b[1;33m(\u001b[0m\u001b[0mnp\u001b[0m\u001b[1;33m.\u001b[0m\u001b[0msqueeze\u001b[0m\u001b[1;33m(\u001b[0m\u001b[0mimage\u001b[0m\u001b[1;33m[\u001b[0m\u001b[1;33m:\u001b[0m\u001b[1;33m,\u001b[0m \u001b[1;33m:\u001b[0m\u001b[1;33m,\u001b[0m \u001b[1;36m110\u001b[0m\u001b[1;33m]\u001b[0m\u001b[1;33m)\u001b[0m\u001b[1;33m,\u001b[0m \u001b[0mcmap\u001b[0m\u001b[1;33m=\u001b[0m\u001b[1;34m\"gray\"\u001b[0m\u001b[1;33m)\u001b[0m\u001b[1;33m\u001b[0m\u001b[1;33m\u001b[0m\u001b[0m\n",
      "\u001b[1;31mAttributeError\u001b[0m: 'NoneType' object has no attribute 'shape'"
     ]
    }
   ],
   "source": [
    "import matplotlib.pyplot as plt\n",
    "import numpy as np\n",
    "\n",
    "# data = scan\n",
    "# images, labels = list(data)[0]\n",
    "# images = images.numpy()\n",
    "image = scan\n",
    "print(\"Dimension of the CT scan is:\", image.shape)\n",
    "plt.imshow(np.squeeze(image[:, :, 110]), cmap=\"gray\")"
   ]
  },
  {
   "cell_type": "code",
   "execution_count": null,
   "id": "1142fb3a-824f-441a-8412-1c020941373c",
   "metadata": {},
   "outputs": [],
   "source": []
  }
 ],
 "metadata": {
  "kernelspec": {
   "display_name": "Python 3 (ipykernel)",
   "language": "python",
   "name": "python3"
  },
  "language_info": {
   "codemirror_mode": {
    "name": "ipython",
    "version": 3
   },
   "file_extension": ".py",
   "mimetype": "text/x-python",
   "name": "python",
   "nbconvert_exporter": "python",
   "pygments_lexer": "ipython3",
   "version": "3.9.6"
  }
 },
 "nbformat": 4,
 "nbformat_minor": 5
}
