{
 "cells": [
  {
   "cell_type": "code",
   "execution_count": 1,
   "id": "3a2680f7-867d-467a-83ca-7f8cc7488345",
   "metadata": {},
   "outputs": [],
   "source": [
    "import nibabel                      as nib\n",
    "import nibabel.freesurfer.mghformat as mgh\n",
    "import matplotlib.pyplot as plt\n",
    "import numpy as np\n",
    "import pandas as pd\n",
    "import os\n",
    "import tensorflow as tf\n",
    "from tensorflow import keras\n",
    "from tensorflow.keras import layers"
   ]
  },
  {
   "cell_type": "code",
   "execution_count": 2,
   "id": "1d334c94-983f-4684-808d-9367113c60a9",
   "metadata": {},
   "outputs": [
    {
     "name": "stdout",
     "output_type": "stream",
     "text": [
      "2.6.0\n",
      "[PhysicalDevice(name='/physical_device:CPU:0', device_type='CPU'), PhysicalDevice(name='/physical_device:GPU:0', device_type='GPU')]\n",
      "Num GPUs Available:  1\n"
     ]
    }
   ],
   "source": [
    "print(tf.__version__)\n",
    "print(tf.config.list_physical_devices())\n",
    "print(\"Num GPUs Available: \", len(tf.config.list_physical_devices('GPU')))"
   ]
  },
  {
   "cell_type": "code",
   "execution_count": 3,
   "id": "efa10257-88a1-413f-9ee6-0cb7ca835982",
   "metadata": {},
   "outputs": [],
   "source": [
    "from scipy import ndimage\n",
    "\n",
    "def read_mgz_file(filepath):\n",
    "    \"\"\"Read and load volume\"\"\"\n",
    "    # Read file\n",
    "    scan = mgh.load(filepath)\n",
    "    # Get raw data\n",
    "    scan = scan.get_fdata()\n",
    "    return scan\n",
    "\n",
    "def convertersize(volume):\n",
    "    \"\"\"convertersize the volume\"\"\"\n",
    "    min = -1000\n",
    "    max = 400\n",
    "    volume[volume < min] = min\n",
    "    volume[volume > max] = max\n",
    "    volume = (volume - min) / (max - min)\n",
    "    volume = volume.astype(\"float32\")\n",
    "    return volume\n",
    "\n",
    "def resize_volume(img):\n",
    "    \"\"\"Resize across z-axis\"\"\"\n",
    "    # Set the desired depth\n",
    "    desired_depth = 64\n",
    "    desired_width = 64\n",
    "    desired_height = 64\n",
    "    # Get current depth\n",
    "    current_depth = img.shape[-1]\n",
    "    current_width = img.shape[0]\n",
    "    current_height = img.shape[1]\n",
    "    # Compute depth factor\n",
    "    depth = current_depth / desired_depth\n",
    "    width = current_width / desired_width\n",
    "    height = current_height / desired_height\n",
    "    depth_factor = 1 / depth\n",
    "    width_factor = 1 / width\n",
    "    height_factor = 1 / height\n",
    "    # Rotate\n",
    "    img = ndimage.rotate(img, 270, reshape=False)\n",
    "    # Resize across z-axis\n",
    "    img = ndimage.zoom(img, (width_factor, height_factor, depth_factor), order=1)\n",
    "    return img\n",
    "\n",
    "def process_scan(path):\n",
    "    \"\"\"Read and resize volume\"\"\"\n",
    "    # Read scan\n",
    "    volume = read_mgz_file(path)\n",
    "    #  convertersize\n",
    "    volume = convertersize(volume)\n",
    "    # Resize width, height and depth\n",
    "    volume = resize_volume(volume)\n",
    "    return volume"
   ]
  },
  {
   "cell_type": "code",
   "execution_count": 4,
   "id": "26e3fa33-f095-4606-9540-c77568cba19f",
   "metadata": {},
   "outputs": [],
   "source": [
    "scan = process_scan('Scans_CN/OAS30005_MR_d0143.mgz')"
   ]
  },
  {
   "cell_type": "code",
   "execution_count": 5,
   "id": "cfabb140-fadd-4cd6-af84-6ebc76a900d9",
   "metadata": {},
   "outputs": [
    {
     "name": "stdout",
     "output_type": "stream",
     "text": [
      "Dimension of the CT scan is: (64, 64, 64)\n"
     ]
    },
    {
     "data": {
      "image/png": "[encoded data removed]",
      "text/plain": [
       "<Figure size 640x480 with 1 Axes>"
      ]
     },
     "metadata": {},
     "output_type": "display_data"
    }
   ],
   "source": [
    "image = scan\n",
    "print(\"Dimension of the CT scan is:\", image.shape)\n",
    "plt.imshow(np.squeeze(image[:, :, 32]), cmap=\"gray\")\n",
    "plt.show()"
   ]
  },
  {
   "cell_type": "code",
   "execution_count": 6,
   "id": "13dceb41-904a-4628-a797-c5a46aec967d",
   "metadata": {},
   "outputs": [],
   "source": [
    "scan = process_scan('Scans_Converters/OAS30007_MR_d0061.mgz')"
   ]
  },
  {
   "cell_type": "code",
   "execution_count": 7,
   "id": "5907812d-032f-4c1e-b0aa-7abff5d51d6a",
   "metadata": {},
   "outputs": [
    {
     "name": "stdout",
     "output_type": "stream",
     "text": [
      "Dimension of the CT scan is: (64, 64, 64)\n"
     ]
    },
    {
     "data": {
      "image/png": "[encoded data removed]",
      "text/plain": [
       "<Figure size 640x480 with 1 Axes>"
      ]
     },
     "metadata": {},
     "output_type": "display_data"
    }
   ],
   "source": [
    "image = scan\n",
    "print(\"Dimension of the CT scan is:\", image.shape)\n",
    "plt.imshow(np.squeeze(image[10:54, 10:54, 32]), cmap=\"gray\")\n",
    "plt.show()"
   ]
  },
  {
   "cell_type": "markdown",
   "id": "5e92ef83-79fd-4ff1-b04d-49271b12083f",
   "metadata": {},
   "source": [
    "## Reading data"
   ]
  },
  {
   "cell_type": "code",
   "execution_count": 8,
   "id": "1142fb3a-824f-441a-8412-1c020941373c",
   "metadata": {},
   "outputs": [
    {
     "name": "stdout",
     "output_type": "stream",
     "text": [
      "MRI scans for patients remaining CN: 319\n",
      "MRI scans for patients converting to AD: 126\n"
     ]
    }
   ],
   "source": [
    "# Folder \"Scans_CN\" consist of subjects who remained cognitively converters for the whole study.\n",
    "CN_scan_paths = [\n",
    "    os.path.join(os.getcwd(), \"Scans_CN\", x)\n",
    "    for x in os.listdir(\"Scans_CN\")\n",
    "]\n",
    "# Folder \"Scans_Converters\" consist of subjects who converted from CN to MCI > 0.\n",
    "converters_scan_paths = [\n",
    "    os.path.join(os.getcwd(), \"Scans_Converters\", x)\n",
    "    for x in os.listdir(\"Scans_Converters\")\n",
    "]\n",
    "\n",
    "print(\"MRI scans for patients remaining CN: \" + str(len(CN_scan_paths)))\n",
    "print(\"MRI scans for patients converting to AD: \" + str(len(converters_scan_paths)))"
   ]
  },
  {
   "cell_type": "code",
   "execution_count": 9,
   "id": "820263b5-32e7-4b5f-a70b-ad54340ca2f0",
   "metadata": {},
   "outputs": [],
   "source": [
    "# Read and process the scans.\n",
    "# Each scan is resized across height, width, and depth and rescaled.\n",
    "CN_scans = np.array([process_scan(path) for path in CN_scan_paths])\n",
    "converters_scans = np.array([process_scan(path) for path in converters_scan_paths])\n",
    "\n",
    "# For the converters assign 1, for the CN subjects assign 0.\n",
    "CN_labels = np.array([0 for _ in range(len(CN_scans))])\n",
    "converters_labels = np.array([1 for _ in range(len(converters_scans))])"
   ]
  },
  {
   "cell_type": "code",
   "execution_count": 10,
   "id": "a8678ba1-2a71-412b-b459-7e0871cbe7e9",
   "metadata": {},
   "outputs": [
    {
     "name": "stdout",
     "output_type": "stream",
     "text": [
      "Number of samples in train and validation are 311 and 134.\n"
     ]
    }
   ],
   "source": [
    "# Split data in the ratio 70-30 for training and validation.\n",
    "x_train = np.concatenate((CN_scans[:223], converters_scans[:88]), axis=0)\n",
    "y_train = np.concatenate((CN_labels[:223], converters_labels[:88]), axis=0)\n",
    "x_val = np.concatenate((CN_scans[223:], converters_scans[88:]), axis=0)\n",
    "y_val = np.concatenate((CN_labels[223:], converters_labels[88:]), axis=0)\n",
    "print(\n",
    "    \"Number of samples in train and validation are %d and %d.\"\n",
    "    % (x_train.shape[0], x_val.shape[0]))"
   ]
  },
  {
   "cell_type": "code",
   "execution_count": 11,
   "id": "6d918438-01ab-4fc9-9b7a-75dedc94efed",
   "metadata": {},
   "outputs": [],
   "source": [
    "x_train_rgb = np.repeat(x_train[..., np.newaxis], 3, -1)\n",
    "x_val_rgb = np.repeat(x_val[..., np.newaxis], 3, -1)"
   ]
  },
  {
   "cell_type": "code",
   "execution_count": 12,
   "id": "b60c2047-5256-495f-b9bd-4f26efc908b1",
   "metadata": {},
   "outputs": [],
   "source": [
    "# Define data loaders.\n",
    "train_loader = tf.data.Dataset.from_tensor_slices((x_train_rgb, y_train))\n",
    "validation_loader = tf.data.Dataset.from_tensor_slices((x_val_rgb, y_val))"
   ]
  },
  {
   "cell_type": "code",
   "execution_count": 13,
   "id": "c9253ed7-ed6d-46f7-bf7f-177145b1dfac",
   "metadata": {},
   "outputs": [],
   "source": [
    "batch_size = 2\n",
    "# Augment the on the fly during training.\n",
    "train_dataset = (\n",
    "    train_loader.shuffle(len(x_train_rgb))\n",
    "    .batch(batch_size)\n",
    "    .prefetch(2)\n",
    ")\n",
    "# Only rescale.\n",
    "validation_dataset = (\n",
    "    validation_loader.shuffle(len(x_val_rgb))\n",
    "    .batch(batch_size)\n",
    "    .prefetch(2)\n",
    ")"
   ]
  },
  {
   "cell_type": "code",
   "execution_count": 15,
   "id": "e8e9a5fb-add3-4b4e-ab57-d31388650bf7",
   "metadata": {},
   "outputs": [],
   "source": [
    "# for tensorflow.keras\n",
    "from classification_models_3D.tfkeras import Classifiers\n",
    "\n",
    "ResNet18, preprocess_input = Classifiers.get('resnet18')\n",
    "# model = ResNet18(input_shape=(128, 128, 128, 3), weights='imagenet')\n",
    "base_model = ResNet18(input_shape=(64, 64, 64, 3), weights='imagenet')\n",
    "\n",
    "x = base_model.output\n",
    "# x = tf.keras.layers.Dense(1024,activation='relu')(x) \n",
    "x = tf.keras.layers.Dense(1024,activation='relu')(x) \n",
    "x = tf.keras.layers.Dense(512,activation='relu')(x) \n",
    "x = tf.keras.layers.Dense(1, activation= 'sigmoid')(x)\n",
    "model = keras.Model(inputs = base_model.input, outputs = x)"
   ]
  },
  {
   "cell_type": "code",
   "execution_count": 18,
   "id": "a966be1a-c030-41f8-b7ce-9a4b9444548a",
   "metadata": {},
   "outputs": [],
   "source": [
    "# base_model.summary()\n",
    "# model.summary()"
   ]
  },
  {
   "cell_type": "code",
   "execution_count": 19,
   "id": "55f2ea47-52b0-4dc2-8b5b-e442ec378881",
   "metadata": {},
   "outputs": [
    {
     "name": "stdout",
     "output_type": "stream",
     "text": [
      "Epoch 1/100\n",
      "156/156 - 15s - loss: 0.6055 - acc: 0.7106 - val_loss: 0.6745 - val_acc: 0.7164\n"
     ]
    },
    {
     "name": "stderr",
     "output_type": "stream",
     "text": [
      "C:\\Users\\Justin\\.conda\\envs\\keras\\lib\\site-packages\\keras\\utils\\generic_utils.py:494: CustomMaskWarning: Custom mask layers require a config and must override get_config. When loading, the custom mask layer must be passed to the custom_objects argument.\n",
      "  warnings.warn('Custom mask layers require a config and must override '\n"
     ]
    },
    {
     "name": "stdout",
     "output_type": "stream",
     "text": [
      "Epoch 2/100\n",
      "156/156 - 7s - loss: 0.6283 - acc: 0.7170 - val_loss: 0.5978 - val_acc: 0.7164\n",
      "Epoch 3/100\n",
      "156/156 - 7s - loss: 0.6109 - acc: 0.7170 - val_loss: 0.5986 - val_acc: 0.7164\n",
      "Epoch 4/100\n",
      "156/156 - 7s - loss: 0.6039 - acc: 0.7170 - val_loss: 0.5999 - val_acc: 0.7164\n",
      "Epoch 5/100\n",
      "156/156 - 7s - loss: 0.6011 - acc: 0.7170 - val_loss: 0.6045 - val_acc: 0.7164\n",
      "Epoch 6/100\n",
      "156/156 - 8s - loss: 0.6016 - acc: 0.7170 - val_loss: 0.5989 - val_acc: 0.7164\n",
      "Epoch 7/100\n",
      "156/156 - 8s - loss: 0.5997 - acc: 0.7170 - val_loss: 0.5971 - val_acc: 0.7164\n",
      "Epoch 8/100\n",
      "156/156 - 8s - loss: 0.6003 - acc: 0.7170 - val_loss: 0.5963 - val_acc: 0.7164\n",
      "Epoch 9/100\n",
      "156/156 - 8s - loss: 0.5993 - acc: 0.7170 - val_loss: 0.5964 - val_acc: 0.7164\n",
      "Epoch 10/100\n",
      "156/156 - 7s - loss: 0.5988 - acc: 0.7170 - val_loss: 0.5963 - val_acc: 0.7164\n",
      "Epoch 11/100\n",
      "156/156 - 7s - loss: 0.5996 - acc: 0.7170 - val_loss: 0.5986 - val_acc: 0.7164\n",
      "Epoch 12/100\n",
      "156/156 - 7s - loss: 0.5988 - acc: 0.7170 - val_loss: 0.5970 - val_acc: 0.7164\n",
      "Epoch 13/100\n",
      "156/156 - 7s - loss: 0.5983 - acc: 0.7170 - val_loss: 0.5985 - val_acc: 0.7164\n",
      "Epoch 14/100\n",
      "156/156 - 7s - loss: 0.5993 - acc: 0.7170 - val_loss: 0.5964 - val_acc: 0.7164\n",
      "Epoch 15/100\n",
      "156/156 - 7s - loss: 0.5979 - acc: 0.7170 - val_loss: 0.5985 - val_acc: 0.7164\n",
      "Epoch 16/100\n",
      "156/156 - 7s - loss: 0.5976 - acc: 0.7170 - val_loss: 0.5976 - val_acc: 0.7164\n"
     ]
    },
    {
     "data": {
      "text/plain": [
       "<keras.callbacks.History at 0x2ec397d52e0>"
      ]
     },
     "execution_count": 19,
     "metadata": {},
     "output_type": "execute_result"
    }
   ],
   "source": [
    "# Compile model.\n",
    "initial_learning_rate = 0.01\n",
    "lr_schedule = keras.optimizers.schedules.ExponentialDecay(\n",
    "    initial_learning_rate, decay_steps=10000, decay_rate=0.96, staircase=True\n",
    ")\n",
    "model.compile(\n",
    "    loss=\"binary_crossentropy\",\n",
    "    optimizer=keras.optimizers.Adam(learning_rate=lr_schedule),\n",
    "    metrics=[\"acc\"],\n",
    ")\n",
    "\n",
    "# Define callbacks.\n",
    "checkpoint_cb = keras.callbacks.ModelCheckpoint(\n",
    "    \"3d_image_classification.h5\", save_best_only=True\n",
    ")\n",
    "early_stopping_cb = keras.callbacks.EarlyStopping(monitor=\"val_acc\", patience=15)\n",
    "\n",
    "# Train the model, doing validation at the end of each epoch\n",
    "epochs = 100\n",
    "model.fit(\n",
    "    train_dataset,\n",
    "    validation_data=validation_dataset,\n",
    "    epochs=epochs,\n",
    "    shuffle=True,\n",
    "    verbose=2,\n",
    "    callbacks=[checkpoint_cb, early_stopping_cb],\n",
    ")"
   ]
  },
  {
   "cell_type": "code",
   "execution_count": 20,
   "id": "22b70f51-ee18-447a-8433-b8ec0c3c3e06",
   "metadata": {},
   "outputs": [],
   "source": [
    "fig, ax = plt.subplots(1, 2, figsize=(20, 3))\n",
    "ax = ax.ravel()\n",
    "\n",
    "for i, metric in enumerate([\"acc\", \"loss\"]):\n",
    "    ax[i].plot(model.history.history[metric])\n",
    "    ax[i].plot(model.history.history[\"val_\" + metric])\n",
    "    ax[i].set_title(\"Model {}\".format(metric))\n",
    "    ax[i].set_xlabel(\"epochs\")\n",
    "    ax[i].set_ylabel(metric)\n",
    "    ax[i].legend([\"train\", \"val\"])"
   ]
  },
  {
   "cell_type": "code",
   "execution_count": 21,
   "id": "3fc152b8-4f1d-40d7-8dce-308f2478e989",
   "metadata": {},
   "outputs": [
    {
     "name": "stdout",
     "output_type": "stream",
     "text": [
      "This model is 71.57 percent confident that CT scan is normal\n",
      "This model is 28.43 percent confident that CT scan is abnormal\n"
     ]
    }
   ],
   "source": [
    "# Load best weights.\n",
    "model.load_weights(\"3d_image_classification.h5\")\n",
    "prediction = model.predict(np.expand_dims(x_val_rgb[0], axis=0))[0]\n",
    "scores = [1 - prediction[0], prediction[0]]\n",
    "\n",
    "class_names = [\"normal\", \"abnormal\"]\n",
    "for score, name in zip(scores, class_names):\n",
    "    print(\n",
    "        \"This model is %.2f percent confident that CT scan is %s\"\n",
    "        % ((100 * score), name)\n",
    "    )"
   ]
  },
  {
   "cell_type": "code",
   "execution_count": null,
   "id": "2498209b-8d23-44a0-ae5d-4382559bc5a6",
   "metadata": {},
   "outputs": [],
   "source": []
  },
  {
   "cell_type": "code",
   "execution_count": null,
   "id": "643bf28e-808a-4188-9f32-f8580ab171f0",
   "metadata": {},
   "outputs": [],
   "source": [
    "image = scan\n",
    "print(\"Dimension of the CT scan is:\", image.shape)\n",
    "plt.imshow(np.squeeze(image[:, :, 32]), cmap=\"gray\")\n",
    "plt.show()"
   ]
  }
 ],
 "metadata": {
  "kernelspec": {
   "display_name": "Python 3",
   "language": "python",
   "name": "python3"
  },
  "language_info": {
   "codemirror_mode": {
    "name": "ipython",
    "version": 3
   },
   "file_extension": ".py",
   "mimetype": "text/x-python",
   "name": "python",
   "nbconvert_exporter": "python",
   "pygments_lexer": "ipython3",
   "version": "3.9.6"
  }
 },
 "nbformat": 4,
 "nbformat_minor": 5
}
