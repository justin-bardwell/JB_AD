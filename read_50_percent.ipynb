{
 "cells": [
  {
   "cell_type": "code",
   "execution_count": 1,
   "id": "3a2680f7-867d-467a-83ca-7f8cc7488345",
   "metadata": {},
   "outputs": [],
   "source": [
    "import nibabel                      as nib\n",
    "import nibabel.freesurfer.mghformat as mgh\n",
    "import matplotlib.pyplot as plt\n",
    "import numpy as np\n",
    "import pandas as pd\n",
    "import os\n",
    "import tensorflow as tf\n",
    "from tensorflow import keras\n",
    "from tensorflow.keras import layers"
   ]
  },
  {
   "cell_type": "code",
   "execution_count": 2,
   "id": "efa10257-88a1-413f-9ee6-0cb7ca835982",
   "metadata": {},
   "outputs": [],
   "source": [
    "from scipy import ndimage\n",
    "\n",
    "def read_mgz_file(filepath):\n",
    "    \"\"\"Read and load volume\"\"\"\n",
    "    # Read file\n",
    "    scan = mgh.load(filepath)\n",
    "    # Get raw data\n",
    "    scan = scan.get_fdata()\n",
    "    return scan\n",
    "\n",
    "def convertersize(volume):\n",
    "    \"\"\"convertersize the volume\"\"\"\n",
    "    min = -1000\n",
    "    max = 400\n",
    "    volume[volume < min] = min\n",
    "    volume[volume > max] = max\n",
    "    volume = (volume - min) / (max - min)\n",
    "    volume = volume.astype(\"float32\")\n",
    "    return volume\n",
    "\n",
    "def resize_volume(img):\n",
    "    \"\"\"Resize across z-axis\"\"\"\n",
    "    # Set the desired depth\n",
    "    desired_depth = 128\n",
    "    desired_width = 128\n",
    "    desired_height = 128\n",
    "    # Get current depth\n",
    "    current_depth = img.shape[-1]\n",
    "    current_width = img.shape[0]\n",
    "    current_height = img.shape[1]\n",
    "    # Compute depth factor\n",
    "    depth = current_depth / desired_depth\n",
    "    width = current_width / desired_width\n",
    "    height = current_height / desired_height\n",
    "    depth_factor = 1 / depth\n",
    "    width_factor = 1 / width\n",
    "    height_factor = 1 / height\n",
    "    # Rotate\n",
    "    img = ndimage.rotate(img, 270, reshape=False)\n",
    "    # Resize across z-axis\n",
    "    img = ndimage.zoom(img, (width_factor, height_factor, depth_factor), order=1)\n",
    "    return img\n",
    "\n",
    "def process_scan(path):\n",
    "    \"\"\"Read and resize volume\"\"\"\n",
    "    # Read scan\n",
    "    volume = read_mgz_file(path)\n",
    "    #  convertersize\n",
    "    volume = convertersize(volume)\n",
    "    # Resize width, height and depth\n",
    "    volume = resize_volume(volume)\n",
    "    return volume"
   ]
  },
  {
   "cell_type": "code",
   "execution_count": 18,
   "id": "5907812d-032f-4c1e-b0aa-7abff5d51d6a",
   "metadata": {},
   "outputs": [
    {
     "name": "stdout",
     "output_type": "stream",
     "text": [
      "Dimension of the CT scan is: (128, 128, 128)\n"
     ]
    },
    {
     "data": {
      "text/plain": [
       "<matplotlib.image.AxesImage at 0x241a4491310>"
      ]
     },
     "execution_count": 18,
     "metadata": {},
     "output_type": "execute_result"
    },
    {
     "data": {
      "image/png": "[encoded data removed]",
      "text/plain": [
       "<Figure size 432x288 with 1 Axes>"
      ]
     },
     "metadata": {
      "needs_background": "light"
     },
     "output_type": "display_data"
    }
   ],
   "source": [
    "scan = process_scan('Scans_CN/OAS30001_MR_d0129.mgz')uykkuy\n",
    "image = scan\n",
    "print(\"Dimension of the CT scan is:\", image.shape)\n",
    "plt.imshow(np.squeeze(image[64, :, :]), cmap=\"gray\")"
   ]
  },
  {
   "cell_type": "markdown",
   "id": "5e92ef83-79fd-4ff1-b04d-49271b12083f",
   "metadata": {},
   "source": [
    "## Reading data"
   ]
  },
  {
   "cell_type": "code",
   "execution_count": 5,
   "id": "1142fb3a-824f-441a-8412-1c020941373c",
   "metadata": {},
   "outputs": [
    {
     "name": "stdout",
     "output_type": "stream",
     "text": [
      "MRI scans for patients remaining CN: 319\n",
      "MRI scans for patients converting to AD: 126\n"
     ]
    }
   ],
   "source": [
    "# Folder \"Scans_CN\" consist of subjects who remained cognitively converters for the whole study.\n",
    "CN_scan_paths = [\n",
    "    os.path.join(os.getcwd(), \"Scans_CN\", x)\n",
    "    for x in os.listdir(\"Scans_CN\")\n",
    "]\n",
    "# Folder \"Scans_Converters\" consist of subjects who converted from CN to MCI > 0.\n",
    "converters_scan_paths = [\n",
    "    os.path.join(os.getcwd(), \"Scans_Converters\", x)\n",
    "    for x in os.listdir(\"Scans_Converters\")\n",
    "]\n",
    "\n",
    "print(\"MRI scans for patients remaining CN: \" + str(len(CN_scan_paths)))\n",
    "print(\"MRI scans for patients converting to AD: \" + str(len(converters_scan_paths)))"
   ]
  },
  {
   "cell_type": "code",
   "execution_count": 6,
   "id": "820263b5-32e7-4b5f-a70b-ad54340ca2f0",
   "metadata": {},
   "outputs": [],
   "source": [
    "# Read and process the scans.\n",
    "# Each scan is resized across height, width, and depth and rescaled.\n",
    "CN_scans = np.array([process_scan(path) for path in CN_scan_paths])\n",
    "converters_scans = np.array([process_scan(path) for path in converters_scan_paths])\n",
    "\n",
    "# For the converters assign 1, for the CN subjects assign 0.\n",
    "CN_labels = np.array([0 for _ in range(len(CN_scans))])\n",
    "converters_labels = np.array([1 for _ in range(len(converters_scans))])"
   ]
  },
  {
   "cell_type": "code",
   "execution_count": 7,
   "id": "a8678ba1-2a71-412b-b459-7e0871cbe7e9",
   "metadata": {},
   "outputs": [
    {
     "name": "stdout",
     "output_type": "stream",
     "text": [
      "Number of samples in train and validation are 311 and 134.\n"
     ]
    }
   ],
   "source": [
    "# Split data in the ratio 70-30 for training and validation.\n",
    "x_train = np.concatenate((CN_scans[:223], converters_scans[:88]), axis=0)\n",
    "y_train = np.concatenate((CN_labels[:223], converters_labels[:88]), axis=0)\n",
    "x_val = np.concatenate((CN_scans[223:], converters_scans[88:]), axis=0)\n",
    "y_val = np.concatenate((CN_labels[223:], converters_labels[88:]), axis=0)\n",
    "print(\n",
    "    \"Number of samples in train and validation are %d and %d.\"\n",
    "    % (x_train.shape[0], x_val.shape[0]))"
   ]
  },
  {
   "cell_type": "code",
   "execution_count": 8,
   "id": "35d85d3c-29d6-4e0d-80b6-df472f6d8cc4",
   "metadata": {},
   "outputs": [],
   "source": [
    "# Define data loaders.\n",
    "train_loader = tf.data.Dataset.from_tensor_slices((x_train, y_train))\n",
    "validation_loader = tf.data.Dataset.from_tensor_slices((x_val, y_val))\n",
    "\n",
    "batch_size = 2\n",
    "# Augment the on the fly during training.\n",
    "train_dataset = (\n",
    "    train_loader.shuffle(len(x_train))\n",
    "    .batch(batch_size)\n",
    "    .prefetch(2)\n",
    ")\n",
    "# Only rescale.\n",
    "validation_dataset = (\n",
    "    validation_loader.shuffle(len(x_val))\n",
    "    .batch(batch_size)\n",
    "    .prefetch(2)\n",
    ")"
   ]
  },
  {
   "cell_type": "code",
   "execution_count": 11,
   "id": "44f43f61-2a42-447a-9c94-bdaad20cdd69",
   "metadata": {},
   "outputs": [
    {
     "name": "stdout",
     "output_type": "stream",
     "text": [
      "Model: \"3dcnn\"\n",
      "_________________________________________________________________\n",
      "Layer (type)                 Output Shape              Param #   \n",
      "=================================================================\n",
      "input_2 (InputLayer)         [(None, 128, 128, 128, 1) 0         \n",
      "_________________________________________________________________\n",
      "conv3d_4 (Conv3D)            (None, 124, 124, 124, 64) 8064      \n",
      "_________________________________________________________________\n",
      "max_pooling3d_4 (MaxPooling3 (None, 62, 62, 62, 64)    0         \n",
      "_________________________________________________________________\n",
      "batch_normalization_4 (Batch (None, 62, 62, 62, 64)    256       \n",
      "_________________________________________________________________\n",
      "conv3d_5 (Conv3D)            (None, 58, 58, 58, 64)    512064    \n",
      "_________________________________________________________________\n",
      "max_pooling3d_5 (MaxPooling3 (None, 29, 29, 29, 64)    0         \n",
      "_________________________________________________________________\n",
      "batch_normalization_5 (Batch (None, 29, 29, 29, 64)    256       \n",
      "_________________________________________________________________\n",
      "conv3d_6 (Conv3D)            (None, 25, 25, 25, 128)   1024128   \n",
      "_________________________________________________________________\n",
      "max_pooling3d_6 (MaxPooling3 (None, 12, 12, 12, 128)   0         \n",
      "_________________________________________________________________\n",
      "batch_normalization_6 (Batch (None, 12, 12, 12, 128)   512       \n",
      "_________________________________________________________________\n",
      "conv3d_7 (Conv3D)            (None, 8, 8, 8, 256)      4096256   \n",
      "_________________________________________________________________\n",
      "max_pooling3d_7 (MaxPooling3 (None, 4, 4, 4, 256)      0         \n",
      "_________________________________________________________________\n",
      "batch_normalization_7 (Batch (None, 4, 4, 4, 256)      1024      \n",
      "_________________________________________________________________\n",
      "global_average_pooling3d_1 ( (None, 256)               0         \n",
      "_________________________________________________________________\n",
      "dense_2 (Dense)              (None, 512)               131584    \n",
      "_________________________________________________________________\n",
      "dropout_1 (Dropout)          (None, 512)               0         \n",
      "_________________________________________________________________\n",
      "dense_3 (Dense)              (None, 1)                 513       \n",
      "=================================================================\n",
      "Total params: 5,774,657\n",
      "Trainable params: 5,773,633\n",
      "Non-trainable params: 1,024\n",
      "_________________________________________________________________\n"
     ]
    }
   ],
   "source": [
    "def get_model(width=128, height=128, depth=128):\n",
    "    \"\"\"Build a 3D convolutional neural network model.\"\"\"\n",
    "\n",
    "    inputs = keras.Input((width, height, depth, 1))\n",
    "\n",
    "    x = layers.Conv3D(filters=64, kernel_size=5, activation=\"relu\")(inputs)\n",
    "    x = layers.MaxPool3D(pool_size=2)(x)\n",
    "    x = layers.BatchNormalization()(x)\n",
    "\n",
    "    x = layers.Conv3D(filters=64, kernel_size=5, activation=\"relu\")(x)\n",
    "    x = layers.MaxPool3D(pool_size=2)(x)\n",
    "    x = layers.BatchNormalization()(x)\n",
    "\n",
    "    x = layers.Conv3D(filters=128, kernel_size=5, activation=\"relu\")(x)\n",
    "    x = layers.MaxPool3D(pool_size=2)(x)\n",
    "    x = layers.BatchNormalization()(x)\n",
    "\n",
    "    x = layers.Conv3D(filters=256, kernel_size=5, activation=\"relu\")(x)\n",
    "    x = layers.MaxPool3D(pool_size=2)(x)\n",
    "    x = layers.BatchNormalization()(x)\n",
    "\n",
    "    x = layers.GlobalAveragePooling3D()(x)\n",
    "    x = layers.Dense(units=512, activation=\"relu\")(x)\n",
    "    x = layers.Dropout(0.3)(x)\n",
    "\n",
    "    outputs = layers.Dense(units=1, activation=\"sigmoid\")(x)\n",
    "\n",
    "    # Define the model.\n",
    "    model = keras.Model(inputs, outputs, name=\"3dcnn\")\n",
    "    return model\n",
    "\n",
    "\n",
    "# Build model.\n",
    "model = get_model(width=128, height=128, depth=128)\n",
    "model.summary()"
   ]
  },
  {
   "cell_type": "code",
   "execution_count": 12,
   "id": "55f2ea47-52b0-4dc2-8b5b-e442ec378881",
   "metadata": {},
   "outputs": [
    {
     "name": "stdout",
     "output_type": "stream",
     "text": [
      "Epoch 1/100\n",
      "156/156 - 78s - loss: 0.6515 - acc: 0.6238 - val_loss: 0.9784 - val_acc: 0.2836\n",
      "Epoch 2/100\n",
      "156/156 - 67s - loss: 0.6345 - acc: 0.7042 - val_loss: 0.6516 - val_acc: 0.7164\n",
      "Epoch 3/100\n",
      "156/156 - 68s - loss: 0.6031 - acc: 0.7363 - val_loss: 0.9785 - val_acc: 0.7164\n",
      "Epoch 4/100\n",
      "156/156 - 67s - loss: 0.5939 - acc: 0.7106 - val_loss: 1.9766 - val_acc: 0.7164\n",
      "Epoch 5/100\n",
      "156/156 - 67s - loss: 0.5972 - acc: 0.7331 - val_loss: 74.0126 - val_acc: 0.7164\n",
      "Epoch 6/100\n",
      "156/156 - 68s - loss: 0.5620 - acc: 0.7042 - val_loss: 14.1910 - val_acc: 0.7164\n",
      "Epoch 7/100\n",
      "156/156 - 67s - loss: 0.5718 - acc: 0.7395 - val_loss: 53.3757 - val_acc: 0.7164\n",
      "Epoch 8/100\n",
      "156/156 - 68s - loss: 0.5715 - acc: 0.7170 - val_loss: 2.9070 - val_acc: 0.7164\n",
      "Epoch 9/100\n",
      "156/156 - 68s - loss: 0.5839 - acc: 0.7138 - val_loss: 2.0723 - val_acc: 0.7164\n",
      "Epoch 10/100\n",
      "156/156 - 68s - loss: 0.5656 - acc: 0.7267 - val_loss: 160.4640 - val_acc: 0.7164\n",
      "Epoch 11/100\n",
      "156/156 - 68s - loss: 0.5545 - acc: 0.7203 - val_loss: 60.0518 - val_acc: 0.7164\n",
      "Epoch 12/100\n",
      "156/156 - 67s - loss: 0.5491 - acc: 0.7267 - val_loss: 11.9700 - val_acc: 0.7164\n",
      "Epoch 13/100\n",
      "156/156 - 67s - loss: 0.5447 - acc: 0.7363 - val_loss: 299.4630 - val_acc: 0.7164\n",
      "Epoch 14/100\n",
      "156/156 - 68s - loss: 0.5445 - acc: 0.7556 - val_loss: 1197.3112 - val_acc: 0.7164\n",
      "Epoch 15/100\n",
      "156/156 - 71s - loss: 0.5654 - acc: 0.7428 - val_loss: 151.0857 - val_acc: 0.7164\n",
      "Epoch 16/100\n",
      "156/156 - 71s - loss: 0.5395 - acc: 0.7524 - val_loss: 189.2886 - val_acc: 0.7164\n",
      "Epoch 17/100\n",
      "156/156 - 69s - loss: 0.5396 - acc: 0.7492 - val_loss: 531.1920 - val_acc: 0.7164\n"
     ]
    },
    {
     "data": {
      "text/plain": [
       "<tensorflow.python.keras.callbacks.History at 0x23d00098100>"
      ]
     },
     "execution_count": 12,
     "metadata": {},
     "output_type": "execute_result"
    }
   ],
   "source": [
    "# Compile model.\n",
    "initial_learning_rate = 0.0001\n",
    "lr_schedule = keras.optimizers.schedules.ExponentialDecay(\n",
    "    initial_learning_rate, decay_steps=100000, decay_rate=0.96, staircase=True\n",
    ")\n",
    "model.compile(\n",
    "    loss=\"binary_crossentropy\",\n",
    "    optimizer=keras.optimizers.Adam(learning_rate=lr_schedule),\n",
    "    metrics=[\"acc\"],\n",
    ")\n",
    "\n",
    "# Define callbacks.\n",
    "checkpoint_cb = keras.callbacks.ModelCheckpoint(\n",
    "    \"3d_image_classification.h5\", save_best_only=True\n",
    ")\n",
    "early_stopping_cb = keras.callbacks.EarlyStopping(monitor=\"val_acc\", patience=15)\n",
    "\n",
    "# Train the model, doing validation at the end of each epoch\n",
    "epochs = 100\n",
    "model.fit(\n",
    "    train_dataset,\n",
    "    validation_data=validation_dataset,\n",
    "    epochs=epochs,\n",
    "    shuffle=True,\n",
    "    verbose=2,\n",
    "    callbacks=[checkpoint_cb, early_stopping_cb],\n",
    ")"
   ]
  },
  {
   "cell_type": "code",
   "execution_count": 13,
   "id": "22b70f51-ee18-447a-8433-b8ec0c3c3e06",
   "metadata": {},
   "outputs": [
    {
     "data": {
      "image/png": "[encoded data removed]",
      "text/plain": [
       "<Figure size 1440x216 with 2 Axes>"
      ]
     },
     "metadata": {
      "needs_background": "light"
     },
     "output_type": "display_data"
    }
   ],
   "source": [
    "fig, ax = plt.subplots(1, 2, figsize=(20, 3))\n",
    "ax = ax.ravel()\n",
    "\n",
    "for i, metric in enumerate([\"acc\", \"loss\"]):\n",
    "    ax[i].plot(model.history.history[metric])\n",
    "    ax[i].plot(model.history.history[\"val_\" + metric])\n",
    "    ax[i].set_title(\"Model {}\".format(metric))\n",
    "    ax[i].set_xlabel(\"epochs\")\n",
    "    ax[i].set_ylabel(metric)\n",
    "    ax[i].legend([\"train\", \"val\"])"
   ]
  },
  {
   "cell_type": "code",
   "execution_count": 14,
   "id": "3fc152b8-4f1d-40d7-8dce-308f2478e989",
   "metadata": {},
   "outputs": [
    {
     "name": "stdout",
     "output_type": "stream",
     "text": [
      "This model is 54.16 percent confident that CT scan is normal\n",
      "This model is 45.84 percent confident that CT scan is abnormal\n"
     ]
    }
   ],
   "source": [
    "# Load best weights.\n",
    "model.load_weights(\"3d_image_classification.h5\")\n",
    "prediction = model.predict(np.expand_dims(x_val[0], axis=0))[0]\n",
    "scores = [1 - prediction[0], prediction[0]]\n",
    "\n",
    "class_names = [\"normal\", \"abnormal\"]\n",
    "for score, name in zip(scores, class_names):\n",
    "    print(\n",
    "        \"This model is %.2f percent confident that CT scan is %s\"\n",
    "        % ((100 * score), name)\n",
    "    )"
   ]
  }
 ],
 "metadata": {
  "kernelspec": {
   "display_name": "Python 3",
   "language": "python",
   "name": "python3"
  },
  "language_info": {
   "codemirror_mode": {
    "name": "ipython",
    "version": 3
   },
   "file_extension": ".py",
   "mimetype": "text/x-python",
   "name": "python",
   "nbconvert_exporter": "python",
   "pygments_lexer": "ipython3",
   "version": "3.9.6"
  }
 },
 "nbformat": 4,
 "nbformat_minor": 5
}
